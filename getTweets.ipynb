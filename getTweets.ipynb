{
 "cells": [
  {
   "cell_type": "markdown",
   "id": "188d3fdf-6ed8-4271-bfa0-22bffc6c4a2b",
   "metadata": {
    "tags": []
   },
   "source": [
    "# Setup"
   ]
  },
  {
   "cell_type": "markdown",
   "id": "39faf35f-5bd4-4aab-88f0-ba8fab0ef5ec",
   "metadata": {},
   "source": [
    "## Imports & `.env` Setup"
   ]
  },
  {
   "cell_type": "code",
   "execution_count": 1,
   "id": "1ea5984f-161e-495b-b0fd-63109510768e",
   "metadata": {
    "execution": {
     "iopub.execute_input": "2022-06-18T06:47:14.320222Z",
     "iopub.status.busy": "2022-06-18T06:47:14.319265Z",
     "iopub.status.idle": "2022-06-18T06:47:17.776784Z",
     "shell.execute_reply": "2022-06-18T06:47:17.775651Z",
     "shell.execute_reply.started": "2022-06-18T06:47:14.320087Z"
    },
    "tags": []
   },
   "outputs": [],
   "source": [
    "import pandas as pd, numpy as np, airtable as at, tweepy as tw,\\\n",
    "       searchtweets as st, requests, os, dotenv, json\n",
    "dotenv.load_dotenv();"
   ]
  },
  {
   "cell_type": "markdown",
   "id": "c6555dd9-9cb7-44c1-8039-4915e60060e9",
   "metadata": {},
   "source": [
    "## Load Secret Variables"
   ]
  },
  {
   "cell_type": "markdown",
   "id": "f47a13eb-cc35-4ae5-aa3c-8bf9f961a834",
   "metadata": {},
   "source": [
    "### Twitter"
   ]
  },
  {
   "cell_type": "code",
   "execution_count": 2,
   "id": "edd84ead-c465-4049-91a4-5b1110e8a866",
   "metadata": {
    "execution": {
     "iopub.execute_input": "2022-06-18T06:47:17.778540Z",
     "iopub.status.busy": "2022-06-18T06:47:17.777883Z",
     "iopub.status.idle": "2022-06-18T06:47:17.793543Z",
     "shell.execute_reply": "2022-06-18T06:47:17.786911Z",
     "shell.execute_reply.started": "2022-06-18T06:47:17.778500Z"
    },
    "tags": []
   },
   "outputs": [],
   "source": [
    "key, secret_key = (os.getenv(i) for i in [\"TWEET_KEY\", \"TWEET_SECRET_KEY\"])\n",
    "auth = tw.OAuthHandler(key, secret_key)\n",
    "api = tw.API(auth, wait_on_rate_limit=True)"
   ]
  },
  {
   "cell_type": "markdown",
   "id": "b6f2b2c5-cb28-4a20-b897-bb7be9e8486d",
   "metadata": {},
   "source": [
    "### Airtable"
   ]
  },
  {
   "cell_type": "code",
   "execution_count": 3,
   "id": "d40a50f0-79be-482f-a219-08aa42f6243e",
   "metadata": {
    "execution": {
     "iopub.execute_input": "2022-06-18T06:47:17.798227Z",
     "iopub.status.busy": "2022-06-18T06:47:17.797748Z",
     "iopub.status.idle": "2022-06-18T06:47:17.822932Z",
     "shell.execute_reply": "2022-06-18T06:47:17.813677Z",
     "shell.execute_reply.started": "2022-06-18T06:47:17.798188Z"
    },
    "tags": []
   },
   "outputs": [],
   "source": [
    "token, base, url = (os.getenv(i) for i in [\"AIRTABLE_TOKEN\",\n",
    "                                           \"AIRTABLE_BASE_ID\",\n",
    "                                           \"AIRTABLE_URL\"])"
   ]
  },
  {
   "cell_type": "markdown",
   "id": "14668445-1e5e-4b93-a266-00c4da00c350",
   "metadata": {},
   "source": [
    "## Functions"
   ]
  },
  {
   "cell_type": "markdown",
   "id": "045d6dbb-0e1d-46d9-b987-16c921a647ce",
   "metadata": {},
   "source": [
    "### Twitter"
   ]
  },
  {
   "cell_type": "code",
   "execution_count": 29,
   "id": "e2ebd9bf-3d56-4ed6-a9ea-7b199744922a",
   "metadata": {
    "execution": {
     "iopub.execute_input": "2022-06-18T07:08:58.820384Z",
     "iopub.status.busy": "2022-06-18T07:08:58.820058Z",
     "iopub.status.idle": "2022-06-18T07:08:58.831115Z",
     "shell.execute_reply": "2022-06-18T07:08:58.826405Z",
     "shell.execute_reply.started": "2022-06-18T07:08:58.820353Z"
    },
    "tags": []
   },
   "outputs": [],
   "source": [
    "def getTweets(search, method = \"search_tweets\", n = 50):\n",
    "    tweets = tw.Cursor(eval(f\"api.{method}\"),\n",
    "              q=search,\n",
    "              lang=\"en\").items(n)\n",
    "    tweets = list(tweets)\n",
    "    print(\"Total Tweets fetched:\", len(tweets))\n",
    "    return tweets\n",
    "    # frm = pd.DataFrame([tweet._json | {\"user\" \n",
    "    #                                    : tweet.user._json[\"name\"]} \n",
    "    #                     for tweet in tweets])\n",
    "    # return frm[[\"text\", \"user\"]]"
   ]
  },
  {
   "cell_type": "code",
   "execution_count": 5,
   "id": "72e92980-abbd-43ce-881d-84a71d5e51cc",
   "metadata": {
    "execution": {
     "iopub.execute_input": "2022-06-18T06:47:17.853298Z",
     "iopub.status.busy": "2022-06-18T06:47:17.849885Z",
     "iopub.status.idle": "2022-06-18T06:47:17.869583Z",
     "shell.execute_reply": "2022-06-18T06:47:17.867933Z",
     "shell.execute_reply.started": "2022-06-18T06:47:17.853169Z"
    },
    "tags": []
   },
   "outputs": [],
   "source": [
    "def post(data, table = \"ratings\"):\n",
    "    \"\"\"Add data to the Airtable.\"\"\"\n",
    "    sheet = f\"{url}/{table}\"\n",
    "    headers = {'Authorization': f'Bearer {token}', 'Content-Type': 'application/json'}\n",
    "    response = requests.request(\"POST\", sheet, headers=headers, data=json.dumps(data))\n",
    "    return response"
   ]
  },
  {
   "cell_type": "code",
   "execution_count": 21,
   "id": "8d47c069-151b-4f65-b09f-6a9bd37c56ff",
   "metadata": {
    "execution": {
     "iopub.execute_input": "2022-06-18T06:57:16.460480Z",
     "iopub.status.busy": "2022-06-18T06:57:16.459694Z",
     "iopub.status.idle": "2022-06-18T06:57:16.481095Z",
     "shell.execute_reply": "2022-06-18T06:57:16.472887Z",
     "shell.execute_reply.started": "2022-06-18T06:57:16.460434Z"
    },
    "tags": []
   },
   "outputs": [],
   "source": [
    "def get(query = None, table = \"tweets\"):\n",
    "    \"\"\"Retrieve Tweet Data\"\"\"\n",
    "    sheet = f\"{url}/{table}\"\n",
    "    headers = {'Authorization': f'Bearer {token}', 'Content-Type': 'application/json'}\n",
    "    response = requests.request(\"GET\", sheet, headers=headers)\n",
    "    data = [{\"id\" : record[\"id\"]} | record[\"fields\"] for record in eval(response.text)[\"records\"]]\n",
    "    frame = pd.DataFrame(data)\n",
    "    return frame"
   ]
  },
  {
   "cell_type": "code",
   "execution_count": 110,
   "id": "d51beb90-3ecc-4cdd-beba-90607fff61f0",
   "metadata": {
    "execution": {
     "iopub.execute_input": "2022-06-18T07:56:20.708236Z",
     "iopub.status.busy": "2022-06-18T07:56:20.707153Z",
     "iopub.status.idle": "2022-06-18T07:56:20.756744Z",
     "shell.execute_reply": "2022-06-18T07:56:20.733086Z",
     "shell.execute_reply.started": "2022-06-18T07:56:20.708195Z"
    },
    "tags": []
   },
   "outputs": [],
   "source": [
    "def update(username, table = \"tweets\", step = 1):\n",
    "    \"\"\"Update specific field values for a record.\"\"\"\n",
    "    sheet = f\"{url}/{table}\"\n",
    "    headers = {'Authorization': f'Bearer {token}', 'Content-Type': 'application/json'}\n",
    "    record = dict(get().query(f\"user == '{username}'\").iloc[0, :])\n",
    "    new_record = {\"records\": [ {\"id\": record[\"id\"], \"fields\": {\"Rated\": int(record[\"Rated\"]) + step}}]}\n",
    "    response = requests.request(\"PATCH\", sheet, headers=headers, data=json.dumps(new_record))\n",
    "    return response"
   ]
  },
  {
   "cell_type": "markdown",
   "id": "b1ed7c3b-78a0-4dd0-8b5a-0ce55ac34d2c",
   "metadata": {},
   "source": [
    "# Work"
   ]
  },
  {
   "cell_type": "code",
   "execution_count": 62,
   "id": "c5cd5b1a-6d84-4a6c-bdc2-008066eae9f4",
   "metadata": {
    "execution": {
     "iopub.execute_input": "2022-06-18T07:32:25.753146Z",
     "iopub.status.busy": "2022-06-18T07:32:25.752800Z",
     "iopub.status.idle": "2022-06-18T07:32:25.767181Z",
     "shell.execute_reply": "2022-06-18T07:32:25.765080Z",
     "shell.execute_reply.started": "2022-06-18T07:32:25.753098Z"
    },
    "tags": []
   },
   "outputs": [],
   "source": [
    "def getUser(username):\n",
    "    return api.search_users(username, count = 1)\n",
    "def getTimeline(username):\n",
    "    tweets = api.search_tweets(username, count = 10000)\n",
    "    cleanTweets = [tweet for tweet in tweets if tweet.user._json[\"screen_name\"] == username]\n",
    "    return cleanTweets"
   ]
  },
  {
   "cell_type": "code",
   "execution_count": 87,
   "id": "7e275914-3638-40de-990d-9f38473b65bc",
   "metadata": {
    "execution": {
     "iopub.execute_input": "2022-06-18T07:47:36.195393Z",
     "iopub.status.busy": "2022-06-18T07:47:36.194789Z",
     "iopub.status.idle": "2022-06-18T07:47:37.106557Z",
     "shell.execute_reply": "2022-06-18T07:47:37.105622Z",
     "shell.execute_reply.started": "2022-06-18T07:47:36.195350Z"
    },
    "tags": []
   },
   "outputs": [
    {
     "data": {
      "text/plain": [
       "{'id': 'rec8m1RzTYnnQO1Tz',\n",
       " 'text': 'RT @trafalgar_group: New @trafalgar_group/@COSProject #poll finds majority of #Americans believe Biden Admin intentionally letting #GasPric…',\n",
       " 'user': '@StopEndlessWar',\n",
       " 'Rated': 0}"
      ]
     },
     "execution_count": 87,
     "metadata": {},
     "output_type": "execute_result"
    }
   ],
   "source": [
    "rec = dict(get().query(\"user == '@StopEndlessWar'\").iloc[0, :])\n",
    "rec"
   ]
  },
  {
   "cell_type": "code",
   "execution_count": 113,
   "id": "1db4b3c5-a805-4d86-b206-aa5f63688628",
   "metadata": {
    "execution": {
     "iopub.execute_input": "2022-06-18T07:56:37.819394Z",
     "iopub.status.busy": "2022-06-18T07:56:37.818747Z",
     "iopub.status.idle": "2022-06-18T07:56:38.738199Z",
     "shell.execute_reply": "2022-06-18T07:56:38.736354Z",
     "shell.execute_reply.started": "2022-06-18T07:56:37.819343Z"
    },
    "tags": []
   },
   "outputs": [
    {
     "data": {
      "text/plain": [
       "'{\"records\":[{\"id\":\"rec8m1RzTYnnQO1Tz\",\"createdTime\":\"2022-06-16T01:01:33.000Z\",\"fields\":{\"text\":\"RT @trafalgar_group: New @trafalgar_group/@COSProject #poll finds majority of #Americans believe Biden Admin intentionally letting #GasPric…\",\"user\":\"@StopEndlessWar\",\"Rated\":0}}]}'"
      ]
     },
     "execution_count": 113,
     "metadata": {},
     "output_type": "execute_result"
    }
   ],
   "source": [
    "l = update(\"@StopEndlessWar\", step = 1)\n",
    "l.text"
   ]
  },
  {
   "cell_type": "code",
   "execution_count": null,
   "id": "11deaf9b-316e-486e-9838-41dc1cc1d411",
   "metadata": {},
   "outputs": [],
   "source": []
  }
 ],
 "metadata": {
  "kernelspec": {
   "display_name": "Python 3 (ipykernel)",
   "language": "python",
   "name": "python3"
  },
  "language_info": {
   "codemirror_mode": {
    "name": "ipython",
    "version": 3
   },
   "file_extension": ".py",
   "mimetype": "text/x-python",
   "name": "python",
   "nbconvert_exporter": "python",
   "pygments_lexer": "ipython3",
   "version": "3.10.1"
  },
  "widgets": {
   "application/vnd.jupyter.widget-state+json": {
    "state": {},
    "version_major": 2,
    "version_minor": 0
   }
  }
 },
 "nbformat": 4,
 "nbformat_minor": 5
}

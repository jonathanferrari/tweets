{
 "cells": [
  {
   "cell_type": "markdown",
   "id": "188d3fdf-6ed8-4271-bfa0-22bffc6c4a2b",
   "metadata": {
    "tags": []
   },
   "source": [
    "# Setup"
   ]
  },
  {
   "cell_type": "markdown",
   "id": "39faf35f-5bd4-4aab-88f0-ba8fab0ef5ec",
   "metadata": {},
   "source": [
    "## Imports & `.env` Setup"
   ]
  },
  {
   "cell_type": "code",
   "execution_count": 1,
   "id": "1ea5984f-161e-495b-b0fd-63109510768e",
   "metadata": {
    "execution": {
     "iopub.execute_input": "2022-06-22T06:51:59.414050Z",
     "iopub.status.busy": "2022-06-22T06:51:59.412881Z",
     "iopub.status.idle": "2022-06-22T06:52:02.069111Z",
     "shell.execute_reply": "2022-06-22T06:52:02.068292Z",
     "shell.execute_reply.started": "2022-06-22T06:51:59.413973Z"
    },
    "tags": []
   },
   "outputs": [],
   "source": [
    "import pandas as pd, numpy as np, tweepy as tw, streamlit as st\n",
    "import requests, os, dotenv, json\n",
    "dotenv.load_dotenv();"
   ]
  },
  {
   "cell_type": "markdown",
   "id": "c6555dd9-9cb7-44c1-8039-4915e60060e9",
   "metadata": {},
   "source": [
    "## Load Secret Variables"
   ]
  },
  {
   "cell_type": "markdown",
   "id": "f47a13eb-cc35-4ae5-aa3c-8bf9f961a834",
   "metadata": {},
   "source": [
    "### Twitter"
   ]
  },
  {
   "cell_type": "code",
   "execution_count": 2,
   "id": "edd84ead-c465-4049-91a4-5b1110e8a866",
   "metadata": {
    "execution": {
     "iopub.execute_input": "2022-06-22T06:52:02.070679Z",
     "iopub.status.busy": "2022-06-22T06:52:02.070435Z",
     "iopub.status.idle": "2022-06-22T06:52:02.077824Z",
     "shell.execute_reply": "2022-06-22T06:52:02.076667Z",
     "shell.execute_reply.started": "2022-06-22T06:52:02.070657Z"
    },
    "tags": []
   },
   "outputs": [],
   "source": [
    "def do_tweepy_auth():\n",
    "    key, secret_key = (os.getenv(i) for i in [\"TWEET_KEY\", \"TWEET_SECRET_KEY\"])\n",
    "    auth = tw.OAuthHandler(key, secret_key)\n",
    "    api = tw.API(auth, wait_on_rate_limit=True)"
   ]
  },
  {
   "cell_type": "markdown",
   "id": "b6f2b2c5-cb28-4a20-b897-bb7be9e8486d",
   "metadata": {},
   "source": [
    "### Airtable"
   ]
  },
  {
   "cell_type": "code",
   "execution_count": 3,
   "id": "d40a50f0-79be-482f-a219-08aa42f6243e",
   "metadata": {
    "execution": {
     "iopub.execute_input": "2022-06-22T06:52:02.094072Z",
     "iopub.status.busy": "2022-06-22T06:52:02.084850Z",
     "iopub.status.idle": "2022-06-22T06:52:02.098224Z",
     "shell.execute_reply": "2022-06-22T06:52:02.096986Z",
     "shell.execute_reply.started": "2022-06-22T06:52:02.094023Z"
    },
    "tags": []
   },
   "outputs": [],
   "source": [
    "token, base, url = (os.getenv(i) for i in [\"AIRTABLE_TOKEN\",\n",
    "                                           \"AIRTABLE_BASE_ID\",\n",
    "                                           \"AIRTABLE_URL\"])"
   ]
  },
  {
   "cell_type": "markdown",
   "id": "14668445-1e5e-4b93-a266-00c4da00c350",
   "metadata": {},
   "source": [
    "## Functions"
   ]
  },
  {
   "cell_type": "markdown",
   "id": "045d6dbb-0e1d-46d9-b987-16c921a647ce",
   "metadata": {},
   "source": [
    "### Twitter"
   ]
  },
  {
   "cell_type": "code",
   "execution_count": 5,
   "id": "e2ebd9bf-3d56-4ed6-a9ea-7b199744922a",
   "metadata": {
    "execution": {
     "iopub.execute_input": "2022-06-22T06:52:02.174322Z",
     "iopub.status.busy": "2022-06-22T06:52:02.173580Z",
     "iopub.status.idle": "2022-06-22T06:52:02.184588Z",
     "shell.execute_reply": "2022-06-22T06:52:02.178680Z",
     "shell.execute_reply.started": "2022-06-22T06:52:02.174287Z"
    },
    "tags": []
   },
   "outputs": [],
   "source": [
    "def getTweets(search, method = \"search_tweets\", n = 50):\n",
    "    tweets = tw.Cursor(eval(f\"api.{method}\"),\n",
    "              q=search,\n",
    "              lang=\"en\").items(n)\n",
    "    tweets = list(tweets)\n",
    "    print(\"Total Tweets fetched:\", len(tweets))\n",
    "    return tweets"
   ]
  },
  {
   "cell_type": "markdown",
   "id": "f9f8eb5c-cfd9-4f73-aa94-bfff020b71c7",
   "metadata": {},
   "source": [
    "## Airtable"
   ]
  },
  {
   "cell_type": "code",
   "execution_count": 6,
   "id": "72e92980-abbd-43ce-881d-84a71d5e51cc",
   "metadata": {
    "execution": {
     "iopub.execute_input": "2022-06-22T06:52:02.187558Z",
     "iopub.status.busy": "2022-06-22T06:52:02.187115Z",
     "iopub.status.idle": "2022-06-22T06:52:02.198173Z",
     "shell.execute_reply": "2022-06-22T06:52:02.192349Z",
     "shell.execute_reply.started": "2022-06-22T06:52:02.187527Z"
    },
    "tags": []
   },
   "outputs": [],
   "source": [
    "def post(data, table = \"ratings\"):\n",
    "    \"\"\"Add data to the Airtable.\"\"\"\n",
    "    sheet = f\"{url}/{table}\"\n",
    "    headers = {'Authorization': f'Bearer {token}', 'Content-Type': 'application/json'}\n",
    "    response = requests.request(\"POST\", sheet, headers=headers, data=json.dumps(data))\n",
    "    return response"
   ]
  },
  {
   "cell_type": "code",
   "execution_count": 7,
   "id": "8d47c069-151b-4f65-b09f-6a9bd37c56ff",
   "metadata": {
    "execution": {
     "iopub.execute_input": "2022-06-22T06:52:02.200642Z",
     "iopub.status.busy": "2022-06-22T06:52:02.200252Z",
     "iopub.status.idle": "2022-06-22T06:52:02.215274Z",
     "shell.execute_reply": "2022-06-22T06:52:02.211469Z",
     "shell.execute_reply.started": "2022-06-22T06:52:02.200608Z"
    },
    "tags": []
   },
   "outputs": [],
   "source": [
    "def get(query = None, table = \"tweets\"):\n",
    "    \"\"\"Retrieve Tweet Data\"\"\"\n",
    "    sheet = f\"{url}/{table}\"\n",
    "    headers = {'Authorization': f'Bearer {token}', 'Content-Type': 'application/json'}\n",
    "    response = requests.request(\"GET\", sheet, headers=headers)\n",
    "    data = [{\"id\" : record[\"id\"]} | record[\"fields\"] for record in eval(response.text)[\"records\"]]\n",
    "    frame = pd.DataFrame(data)\n",
    "    return frame"
   ]
  },
  {
   "cell_type": "code",
   "execution_count": 8,
   "id": "d51beb90-3ecc-4cdd-beba-90607fff61f0",
   "metadata": {
    "execution": {
     "iopub.execute_input": "2022-06-22T06:52:02.218691Z",
     "iopub.status.busy": "2022-06-22T06:52:02.217684Z",
     "iopub.status.idle": "2022-06-22T06:52:02.229731Z",
     "shell.execute_reply": "2022-06-22T06:52:02.226799Z",
     "shell.execute_reply.started": "2022-06-22T06:52:02.218653Z"
    },
    "tags": []
   },
   "outputs": [],
   "source": [
    "def update(username, table = \"tweets\", step = 1):\n",
    "    \"\"\"Update specific field values for a record.\"\"\"\n",
    "    sheet = f\"{url}/{table}\"\n",
    "    headers = {'Authorization': f'Bearer {token}', 'Content-Type': 'application/json'}\n",
    "    record = dict(get().query(f\"user == '{username}'\").iloc[0, :])\n",
    "    new_record = {\"records\": [ {\"id\": record[\"id\"], \"fields\": {\"Rated\": int(record[\"Rated\"]) + step}}]}\n",
    "    response = requests.request(\"PATCH\", sheet, headers=headers, data=json.dumps(new_record))\n",
    "    return response"
   ]
  },
  {
   "cell_type": "markdown",
   "id": "b1ed7c3b-78a0-4dd0-8b5a-0ce55ac34d2c",
   "metadata": {},
   "source": [
    "# Work"
   ]
  },
  {
   "cell_type": "code",
   "execution_count": 9,
   "id": "c5cd5b1a-6d84-4a6c-bdc2-008066eae9f4",
   "metadata": {
    "execution": {
     "iopub.execute_input": "2022-06-22T06:52:02.234611Z",
     "iopub.status.busy": "2022-06-22T06:52:02.234205Z",
     "iopub.status.idle": "2022-06-22T06:52:02.243234Z",
     "shell.execute_reply": "2022-06-22T06:52:02.240800Z",
     "shell.execute_reply.started": "2022-06-22T06:52:02.234588Z"
    },
    "tags": []
   },
   "outputs": [],
   "source": [
    "def getUser(username):\n",
    "    return api.search_users(username, count = 1)\n",
    "def getTimeline(username):\n",
    "    tweets = api.search_tweets(username, count = 10000)\n",
    "    cleanTweets = [tweet for tweet in tweets if tweet.user._json[\"screen_name\"] == username]\n",
    "    return cleanTweets"
   ]
  }
 ],
 "metadata": {
  "kernelspec": {
   "display_name": "Python 3 (ipykernel)",
   "language": "python",
   "name": "python3"
  },
  "language_info": {
   "codemirror_mode": {
    "name": "ipython",
    "version": 3
   },
   "file_extension": ".py",
   "mimetype": "text/x-python",
   "name": "python",
   "nbconvert_exporter": "python",
   "pygments_lexer": "ipython3",
   "version": "3.10.1"
  },
  "widgets": {
   "application/vnd.jupyter.widget-state+json": {
    "state": {},
    "version_major": 2,
    "version_minor": 0
   }
  }
 },
 "nbformat": 4,
 "nbformat_minor": 5
}

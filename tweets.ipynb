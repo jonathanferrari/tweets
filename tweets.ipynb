{
 "cells": [
  {
   "cell_type": "markdown",
   "id": "188d3fdf-6ed8-4271-bfa0-22bffc6c4a2b",
   "metadata": {
    "tags": []
   },
   "source": [
    "# Setup"
   ]
  },
  {
   "cell_type": "markdown",
   "id": "39faf35f-5bd4-4aab-88f0-ba8fab0ef5ec",
   "metadata": {},
   "source": [
    "## Imports & `.env` Setup"
   ]
  },
  {
   "cell_type": "code",
   "execution_count": 103,
   "id": "1ea5984f-161e-495b-b0fd-63109510768e",
   "metadata": {
    "execution": {
     "iopub.execute_input": "2022-06-23T04:06:35.972281Z",
     "iopub.status.busy": "2022-06-23T04:06:35.971906Z",
     "iopub.status.idle": "2022-06-23T04:06:35.992565Z",
     "shell.execute_reply": "2022-06-23T04:06:35.989007Z",
     "shell.execute_reply.started": "2022-06-23T04:06:35.972244Z"
    },
    "tags": []
   },
   "outputs": [],
   "source": [
    "import pandas as pd, numpy as np, tweepy as tw, streamlit as st\n",
    "import requests, os, dotenv, json, IPython.display\n",
    "from hashlib import *\n",
    "from IPython.display import *\n",
    "dotenv.load_dotenv();"
   ]
  },
  {
   "cell_type": "markdown",
   "id": "c6555dd9-9cb7-44c1-8039-4915e60060e9",
   "metadata": {},
   "source": [
    "## Load Secret Variables"
   ]
  },
  {
   "cell_type": "markdown",
   "id": "f47a13eb-cc35-4ae5-aa3c-8bf9f961a834",
   "metadata": {},
   "source": [
    "### Twitter"
   ]
  },
  {
   "cell_type": "code",
   "execution_count": 2,
   "id": "edd84ead-c465-4049-91a4-5b1110e8a866",
   "metadata": {
    "execution": {
     "iopub.execute_input": "2022-06-23T02:28:19.383568Z",
     "iopub.status.busy": "2022-06-23T02:28:19.383181Z",
     "iopub.status.idle": "2022-06-23T02:28:19.389790Z",
     "shell.execute_reply": "2022-06-23T02:28:19.388936Z",
     "shell.execute_reply.started": "2022-06-23T02:28:19.383539Z"
    },
    "tags": []
   },
   "outputs": [],
   "source": [
    "def do_tweepy_auth():\n",
    "    key, secret_key = (os.getenv(i) for i in [\"TWEET_KEY\", \"TWEET_SECRET_KEY\"])\n",
    "    auth = tw.OAuthHandler(key, secret_key)\n",
    "    api = tw.API(auth, wait_on_rate_limit=True)\n",
    "    return api"
   ]
  },
  {
   "cell_type": "code",
   "execution_count": 3,
   "id": "8138d954-0eaa-43e4-8d55-bdaf51e09c38",
   "metadata": {
    "execution": {
     "iopub.execute_input": "2022-06-23T02:28:19.402623Z",
     "iopub.status.busy": "2022-06-23T02:28:19.402357Z",
     "iopub.status.idle": "2022-06-23T02:28:19.409980Z",
     "shell.execute_reply": "2022-06-23T02:28:19.406463Z",
     "shell.execute_reply.started": "2022-06-23T02:28:19.402595Z"
    },
    "tags": []
   },
   "outputs": [],
   "source": [
    "import tweepy as tw\n",
    "api = do_tweepy_auth()"
   ]
  },
  {
   "cell_type": "markdown",
   "id": "b6f2b2c5-cb28-4a20-b897-bb7be9e8486d",
   "metadata": {},
   "source": [
    "### Airtable"
   ]
  },
  {
   "cell_type": "code",
   "execution_count": 4,
   "id": "d40a50f0-79be-482f-a219-08aa42f6243e",
   "metadata": {
    "execution": {
     "iopub.execute_input": "2022-06-23T02:28:19.416022Z",
     "iopub.status.busy": "2022-06-23T02:28:19.412543Z",
     "iopub.status.idle": "2022-06-23T02:28:19.434642Z",
     "shell.execute_reply": "2022-06-23T02:28:19.424442Z",
     "shell.execute_reply.started": "2022-06-23T02:28:19.415983Z"
    },
    "tags": []
   },
   "outputs": [],
   "source": [
    "token, base, url = (os.getenv(i) for i in [\"AIRTABLE_TOKEN\",\n",
    "                                           \"AIRTABLE_BASE_ID\",\n",
    "                                           \"AIRTABLE_URL\"])"
   ]
  },
  {
   "cell_type": "markdown",
   "id": "14668445-1e5e-4b93-a266-00c4da00c350",
   "metadata": {},
   "source": [
    "## Functions"
   ]
  },
  {
   "cell_type": "markdown",
   "id": "045d6dbb-0e1d-46d9-b987-16c921a647ce",
   "metadata": {},
   "source": [
    "### Twitter"
   ]
  },
  {
   "cell_type": "code",
   "execution_count": 5,
   "id": "e2ebd9bf-3d56-4ed6-a9ea-7b199744922a",
   "metadata": {
    "execution": {
     "iopub.execute_input": "2022-06-23T02:28:19.436515Z",
     "iopub.status.busy": "2022-06-23T02:28:19.436144Z",
     "iopub.status.idle": "2022-06-23T02:28:19.448400Z",
     "shell.execute_reply": "2022-06-23T02:28:19.447624Z",
     "shell.execute_reply.started": "2022-06-23T02:28:19.436493Z"
    },
    "tags": []
   },
   "outputs": [],
   "source": [
    "def getTweets(search, method = \"search_tweets\", n = 50, frame = False):\n",
    "    tweets = tw.Cursor(eval(f\"api.{method}\"),\n",
    "              q=search,\n",
    "              lang=\"en\").items(n)\n",
    "    tweets = list(tweets)\n",
    "    print(\"Total Tweets fetched:\", len(tweets))\n",
    "    if frame:\n",
    "        return pd.DataFrame([{\"text\":tweet._json[\"text\"], \"user\":tweet.user._json[\"screen_name\"]} for tweet in tweets])\n",
    "    return tweets"
   ]
  },
  {
   "cell_type": "code",
   "execution_count": null,
   "id": "78fd93f3-3de0-42a5-93e9-a2eb504d295d",
   "metadata": {},
   "outputs": [],
   "source": [
    "def getUser(username):\n",
    "    return api.search_users(username, count = 1)"
   ]
  },
  {
   "cell_type": "code",
   "execution_count": null,
   "id": "9034dd97-f553-41e9-9200-8ff3b4fe37c2",
   "metadata": {},
   "outputs": [],
   "source": [
    "def getTimeline(username, n = 100000):\n",
    "    tweets = api.search_tweets(username, count = n)\n",
    "    cleanTweets = [tweet._json[\"text\"] for tweet in tweets if tweet.user._json[\"screen_name\"] == username]\n",
    "    return cleanTweets"
   ]
  },
  {
   "cell_type": "markdown",
   "id": "f9f8eb5c-cfd9-4f73-aa94-bfff020b71c7",
   "metadata": {},
   "source": [
    "## Airtable"
   ]
  },
  {
   "cell_type": "code",
   "execution_count": 6,
   "id": "72e92980-abbd-43ce-881d-84a71d5e51cc",
   "metadata": {
    "execution": {
     "iopub.execute_input": "2022-06-23T02:28:19.451219Z",
     "iopub.status.busy": "2022-06-23T02:28:19.449573Z",
     "iopub.status.idle": "2022-06-23T02:28:19.470288Z",
     "shell.execute_reply": "2022-06-23T02:28:19.467101Z",
     "shell.execute_reply.started": "2022-06-23T02:28:19.451180Z"
    },
    "tags": []
   },
   "outputs": [],
   "source": [
    "def post(rater, rated, rating, table = \"ratings\"):\n",
    "    # data = { \"records\": [{\"fields\": {\"rater\": \"dfhn40sgqwn239045823\",\"rated\": \"joeyDiaz\",\"rating\": \"DEM\"}}]}\n",
    "    \"\"\"Add data to the Airtable.\"\"\"\n",
    "    data = {\"records\": [\n",
    "                {\"fields\": \n",
    "                     {\"rater\": str(rater), \n",
    "                      \"rated\": str(rated), \n",
    "                      \"rating\": str(rating)}\n",
    "                }\n",
    "         ]\n",
    "    }\n",
    "    sheet = f\"{url}/{table}\"\n",
    "    headers = {'Authorization': f'Bearer {token}', \n",
    "               'Content-Type': 'application/json'}\n",
    "    response = requests.request(\"POST\", sheet, headers=headers, data=json.dumps(data))\n",
    "    return response"
   ]
  },
  {
   "cell_type": "code",
   "execution_count": 7,
   "id": "8d47c069-151b-4f65-b09f-6a9bd37c56ff",
   "metadata": {
    "execution": {
     "iopub.execute_input": "2022-06-23T02:28:19.478459Z",
     "iopub.status.busy": "2022-06-23T02:28:19.476945Z",
     "iopub.status.idle": "2022-06-23T02:28:19.486883Z",
     "shell.execute_reply": "2022-06-23T02:28:19.485162Z",
     "shell.execute_reply.started": "2022-06-23T02:28:19.478222Z"
    },
    "tags": []
   },
   "outputs": [],
   "source": [
    "def get(query = None, table = \"tweets\"):\n",
    "    \"\"\"Retrieve Tweet Data\"\"\"\n",
    "    sheet = f\"{url}/{table}\"\n",
    "    headers = {'Authorization': f'Bearer {token}', \n",
    "               'Content-Type': 'application/json'}\n",
    "    response = requests.request(\"GET\", sheet, headers=headers)\n",
    "    data = [{\"id\" : record[\"id\"]} | record[\"fields\"] for record in eval(response.text)[\"records\"]]\n",
    "    frame = pd.DataFrame(data)\n",
    "    return frame"
   ]
  },
  {
   "cell_type": "code",
   "execution_count": 50,
   "id": "d51beb90-3ecc-4cdd-beba-90607fff61f0",
   "metadata": {
    "execution": {
     "iopub.execute_input": "2022-06-23T03:37:52.155960Z",
     "iopub.status.busy": "2022-06-23T03:37:52.155687Z",
     "iopub.status.idle": "2022-06-23T03:37:52.163826Z",
     "shell.execute_reply": "2022-06-23T03:37:52.161244Z",
     "shell.execute_reply.started": "2022-06-23T03:37:52.155936Z"
    },
    "tags": []
   },
   "outputs": [],
   "source": [
    "def update(username, table = \"tweets\", step = 1):\n",
    "    \"\"\"Update specific field values for a record.\"\"\"\n",
    "    sheet = f\"{url}/{table}\"\n",
    "    headers = {'Authorization': f'Bearer {token}',\n",
    "                'Content-Type': 'application/json'}\n",
    "    record = dict(get().query(f\"user == '{username}'\").iloc[0, :])\n",
    "    \n",
    "    new_record = {\"records\": [ {\"id\": record[\"id\"],\n",
    "                                \"fields\": {\"ratings\": int(record[\"Rated\"]) + step}\n",
    "                               }\n",
    "                             ]\n",
    "                 }\n",
    "    response = requests.request(\"PATCH\", \n",
    "                                sheet, \n",
    "                                headers=headers, \n",
    "                                data=json.dumps(new_record))\n",
    "    return response"
   ]
  },
  {
   "cell_type": "markdown",
   "id": "858ed2e9-2c85-4a02-bc18-a85ad1147366",
   "metadata": {},
   "source": [
    "## Hashing"
   ]
  },
  {
   "cell_type": "code",
   "execution_count": 73,
   "id": "4b12c9a1-bfc8-4121-a7be-6e5a532ee495",
   "metadata": {
    "execution": {
     "iopub.execute_input": "2022-06-23T03:53:55.338966Z",
     "iopub.status.busy": "2022-06-23T03:53:55.338535Z",
     "iopub.status.idle": "2022-06-23T03:53:55.371797Z",
     "shell.execute_reply": "2022-06-23T03:53:55.360729Z",
     "shell.execute_reply.started": "2022-06-23T03:53:55.338933Z"
    },
    "tags": []
   },
   "outputs": [],
   "source": [
    "def hash(obj):\n",
    "    return sha1(obj.encode(\"utf-8\")).hexdigest()"
   ]
  },
  {
   "cell_type": "markdown",
   "id": "b1ed7c3b-78a0-4dd0-8b5a-0ce55ac34d2c",
   "metadata": {},
   "source": [
    "# Work"
   ]
  },
  {
   "cell_type": "code",
   "execution_count": 126,
   "id": "d3665ba1-b632-4fbb-b43d-d0a449d91846",
   "metadata": {
    "execution": {
     "iopub.execute_input": "2022-06-23T04:30:00.428497Z",
     "iopub.status.busy": "2022-06-23T04:30:00.427904Z",
     "iopub.status.idle": "2022-06-23T04:30:00.439548Z",
     "shell.execute_reply": "2022-06-23T04:30:00.437985Z",
     "shell.execute_reply.started": "2022-06-23T04:30:00.428462Z"
    },
    "tags": []
   },
   "outputs": [],
   "source": [
    "def showRandomTweets():\n",
    "    tweets = get()\n",
    "    selected = tweets.sample(1).iloc[0, :]\n",
    "    selectedTweets, selectedUser = selected[[f\"tweet{i+1}\" for i in range(10)]], selected[\"user\"]\n",
    "    selectedTweets = \"\\n\".join([\"### •\" + t for t in selectedTweets])\n",
    "    return selectedTweets, selectedUser"
   ]
  },
  {
   "cell_type": "code",
   "execution_count": 127,
   "id": "5a2f9ce3-b084-45b6-8470-d7c7fde58e0a",
   "metadata": {
    "execution": {
     "iopub.execute_input": "2022-06-23T04:30:00.955576Z",
     "iopub.status.busy": "2022-06-23T04:30:00.955124Z",
     "iopub.status.idle": "2022-06-23T04:30:01.602827Z",
     "shell.execute_reply": "2022-06-23T04:30:01.602049Z",
     "shell.execute_reply.started": "2022-06-23T04:30:00.955550Z"
    },
    "tags": []
   },
   "outputs": [
    {
     "data": {
      "text/plain": [
       "('### •RT @OrganicLiveFood: How we are losing our #freedom of thought and speech: https://t.co/XMzcApnBQy https://t.co/JS2GuuUvQ4\\n### •RT @againstgroomers: Know the difference. #GaysAgainstGroomers https://t.co/DUoGIy8siD\\n### •RT @againstgroomers: Why would anyone want to report and ban an account that seeks to protect children from predators, unless they are pred…\\n### •RT @itsmarinoula: Didn’t #AmberHeard testify in UK that she never had an affair with Cara? #JohnnyDepp wasn\\'t \"just being paranoid\" after a…\\n### •RT @SophieJ39172239: For the First Time Years and Just Days After COVID-19 Vaccine Approval for Babies, the American Academy of Pediatrics…\\n### •RT @PatrickKarlKni2: Ha ha! This just gets better, I\\'m so poor that I can only shop at TJ Maxx. This woman needs to fuck off.  #JohnnyDeppW…\\n### •RT @shaunna_harper: Amber Heard thinks we’re all incredibly stupid. She’s blatantly trying to pull on heartstrings by staging the TJ Maxx p…\\n### •RT @amicacream: \"Shit, how do we cover up all my frivolous spending when I said I can\\'t even pay Johnny?! I know-- leak to TMZ that I\\'ll be…\\n### •RT @AbigailShrier: This young person has been off of puberty blockers since 16.  Now 18, this person has still NEVER had a sexual feeling.…\\n### •RT @shaunna_harper: Amber Heard thinks we’re all incredibly stupid. She’s blatantly trying to pull on heartstrings by staging the TJ Maxx p…',\n",
       " 'Phoenix_Firez')"
      ]
     },
     "execution_count": 127,
     "metadata": {},
     "output_type": "execute_result"
    }
   ],
   "source": [
    "showRandomTweets()"
   ]
  },
  {
   "cell_type": "code",
   "execution_count": 110,
   "id": "07370747-28f5-49af-bf68-313c6fc33a92",
   "metadata": {
    "execution": {
     "iopub.execute_input": "2022-06-23T04:09:49.816576Z",
     "iopub.status.busy": "2022-06-23T04:09:49.816169Z",
     "iopub.status.idle": "2022-06-23T04:09:49.827096Z",
     "shell.execute_reply": "2022-06-23T04:09:49.826140Z",
     "shell.execute_reply.started": "2022-06-23T04:09:49.816541Z"
    },
    "tags": []
   },
   "outputs": [
    {
     "data": {
      "text/html": [
       "\n",
       "        <iframe\n",
       "            width=\"200\"\n",
       "            height=\"200\"\n",
       "            src=\"https://t.co/KJRZyifxK4\"\n",
       "            frameborder=\"0\"\n",
       "            allowfullscreen\n",
       "            \n",
       "        ></iframe>\n",
       "        "
      ],
      "text/plain": [
       "<IPython.lib.display.IFrame at 0x121de7e50>"
      ]
     },
     "execution_count": 110,
     "metadata": {},
     "output_type": "execute_result"
    }
   ],
   "source": [
    "IPython.display.IFrame(\"https://t.co/KJRZyifxK4\", width = 200, height = 200)"
   ]
  },
  {
   "cell_type": "code",
   "execution_count": null,
   "id": "26136a62-21a4-4060-8294-8199b2f2f0f2",
   "metadata": {},
   "outputs": [],
   "source": []
  }
 ],
 "metadata": {
  "kernelspec": {
   "display_name": "Python 3.10.1 64-bit",
   "language": "python",
   "name": "python3"
  },
  "language_info": {
   "codemirror_mode": {
    "name": "ipython",
    "version": 3
   },
   "file_extension": ".py",
   "mimetype": "text/x-python",
   "name": "python",
   "nbconvert_exporter": "python",
   "pygments_lexer": "ipython3",
   "version": "3.10.1"
  },
  "vscode": {
   "interpreter": {
    "hash": "aee8b7b246df8f9039afb4144a1f6fd8d2ca17a180786b69acc140d282b71a49"
   }
  },
  "widgets": {
   "application/vnd.jupyter.widget-state+json": {
    "state": {},
    "version_major": 2,
    "version_minor": 0
   }
  }
 },
 "nbformat": 4,
 "nbformat_minor": 5
}

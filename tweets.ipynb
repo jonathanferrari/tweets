{
 "cells": [
  {
   "cell_type": "markdown",
   "id": "188d3fdf-6ed8-4271-bfa0-22bffc6c4a2b",
   "metadata": {
    "tags": []
   },
   "source": [
    "# Setup"
   ]
  },
  {
   "cell_type": "markdown",
   "id": "39faf35f-5bd4-4aab-88f0-ba8fab0ef5ec",
   "metadata": {},
   "source": [
    "## Imports & `.env` Setup"
   ]
  },
  {
   "cell_type": "code",
   "execution_count": 72,
   "id": "1ea5984f-161e-495b-b0fd-63109510768e",
   "metadata": {
    "execution": {
     "iopub.execute_input": "2022-06-23T03:53:47.974409Z",
     "iopub.status.busy": "2022-06-23T03:53:47.974158Z",
     "iopub.status.idle": "2022-06-23T03:53:47.982815Z",
     "shell.execute_reply": "2022-06-23T03:53:47.981748Z",
     "shell.execute_reply.started": "2022-06-23T03:53:47.974387Z"
    },
    "tags": []
   },
   "outputs": [],
   "source": [
    "import pandas as pd, numpy as np, tweepy as tw, streamlit as st\n",
    "import requests, os, dotenv, json\n",
    "from hashlib import *\n",
    "dotenv.load_dotenv();"
   ]
  },
  {
   "cell_type": "markdown",
   "id": "c6555dd9-9cb7-44c1-8039-4915e60060e9",
   "metadata": {},
   "source": [
    "## Load Secret Variables"
   ]
  },
  {
   "cell_type": "markdown",
   "id": "f47a13eb-cc35-4ae5-aa3c-8bf9f961a834",
   "metadata": {},
   "source": [
    "### Twitter"
   ]
  },
  {
   "cell_type": "code",
   "execution_count": 2,
   "id": "edd84ead-c465-4049-91a4-5b1110e8a866",
   "metadata": {
    "execution": {
     "iopub.execute_input": "2022-06-23T02:28:19.383568Z",
     "iopub.status.busy": "2022-06-23T02:28:19.383181Z",
     "iopub.status.idle": "2022-06-23T02:28:19.389790Z",
     "shell.execute_reply": "2022-06-23T02:28:19.388936Z",
     "shell.execute_reply.started": "2022-06-23T02:28:19.383539Z"
    },
    "tags": []
   },
   "outputs": [],
   "source": [
    "def do_tweepy_auth():\n",
    "    key, secret_key = (os.getenv(i) for i in [\"TWEET_KEY\", \"TWEET_SECRET_KEY\"])\n",
    "    auth = tw.OAuthHandler(key, secret_key)\n",
    "    api = tw.API(auth, wait_on_rate_limit=True)\n",
    "    return api"
   ]
  },
  {
   "cell_type": "code",
   "execution_count": 3,
   "id": "8138d954-0eaa-43e4-8d55-bdaf51e09c38",
   "metadata": {
    "execution": {
     "iopub.execute_input": "2022-06-23T02:28:19.402623Z",
     "iopub.status.busy": "2022-06-23T02:28:19.402357Z",
     "iopub.status.idle": "2022-06-23T02:28:19.409980Z",
     "shell.execute_reply": "2022-06-23T02:28:19.406463Z",
     "shell.execute_reply.started": "2022-06-23T02:28:19.402595Z"
    },
    "tags": []
   },
   "outputs": [],
   "source": [
    "import tweepy as tw\n",
    "api = do_tweepy_auth()"
   ]
  },
  {
   "cell_type": "markdown",
   "id": "b6f2b2c5-cb28-4a20-b897-bb7be9e8486d",
   "metadata": {},
   "source": [
    "### Airtable"
   ]
  },
  {
   "cell_type": "code",
   "execution_count": 4,
   "id": "d40a50f0-79be-482f-a219-08aa42f6243e",
   "metadata": {
    "execution": {
     "iopub.execute_input": "2022-06-23T02:28:19.416022Z",
     "iopub.status.busy": "2022-06-23T02:28:19.412543Z",
     "iopub.status.idle": "2022-06-23T02:28:19.434642Z",
     "shell.execute_reply": "2022-06-23T02:28:19.424442Z",
     "shell.execute_reply.started": "2022-06-23T02:28:19.415983Z"
    },
    "tags": []
   },
   "outputs": [],
   "source": [
    "token, base, url = (os.getenv(i) for i in [\"AIRTABLE_TOKEN\",\n",
    "                                           \"AIRTABLE_BASE_ID\",\n",
    "                                           \"AIRTABLE_URL\"])"
   ]
  },
  {
   "cell_type": "markdown",
   "id": "14668445-1e5e-4b93-a266-00c4da00c350",
   "metadata": {},
   "source": [
    "## Functions"
   ]
  },
  {
   "cell_type": "markdown",
   "id": "045d6dbb-0e1d-46d9-b987-16c921a647ce",
   "metadata": {},
   "source": [
    "### Twitter"
   ]
  },
  {
   "cell_type": "code",
   "execution_count": 5,
   "id": "e2ebd9bf-3d56-4ed6-a9ea-7b199744922a",
   "metadata": {
    "execution": {
     "iopub.execute_input": "2022-06-23T02:28:19.436515Z",
     "iopub.status.busy": "2022-06-23T02:28:19.436144Z",
     "iopub.status.idle": "2022-06-23T02:28:19.448400Z",
     "shell.execute_reply": "2022-06-23T02:28:19.447624Z",
     "shell.execute_reply.started": "2022-06-23T02:28:19.436493Z"
    },
    "tags": []
   },
   "outputs": [],
   "source": [
    "def getTweets(search, method = \"search_tweets\", n = 50, frame = False):\n",
    "    tweets = tw.Cursor(eval(f\"api.{method}\"),\n",
    "              q=search,\n",
    "              lang=\"en\").items(n)\n",
    "    tweets = list(tweets)\n",
    "    print(\"Total Tweets fetched:\", len(tweets))\n",
    "    if frame:\n",
    "        return pd.DataFrame([{\"text\":tweet._json[\"text\"], \"user\":tweet.user._json[\"screen_name\"]} for tweet in tweets])\n",
    "    return tweets"
   ]
  },
  {
   "cell_type": "code",
   "execution_count": null,
   "id": "78fd93f3-3de0-42a5-93e9-a2eb504d295d",
   "metadata": {},
   "outputs": [],
   "source": [
    "def getUser(username):\n",
    "    return api.search_users(username, count = 1)"
   ]
  },
  {
   "cell_type": "code",
   "execution_count": null,
   "id": "9034dd97-f553-41e9-9200-8ff3b4fe37c2",
   "metadata": {},
   "outputs": [],
   "source": [
    "def getTimeline(username, n = 100000):\n",
    "    tweets = api.search_tweets(username, count = n)\n",
    "    cleanTweets = [tweet._json[\"text\"] for tweet in tweets if tweet.user._json[\"screen_name\"] == username]\n",
    "    return cleanTweets"
   ]
  },
  {
   "cell_type": "markdown",
   "id": "f9f8eb5c-cfd9-4f73-aa94-bfff020b71c7",
   "metadata": {},
   "source": [
    "## Airtable"
   ]
  },
  {
   "cell_type": "code",
   "execution_count": 6,
   "id": "72e92980-abbd-43ce-881d-84a71d5e51cc",
   "metadata": {
    "execution": {
     "iopub.execute_input": "2022-06-23T02:28:19.451219Z",
     "iopub.status.busy": "2022-06-23T02:28:19.449573Z",
     "iopub.status.idle": "2022-06-23T02:28:19.470288Z",
     "shell.execute_reply": "2022-06-23T02:28:19.467101Z",
     "shell.execute_reply.started": "2022-06-23T02:28:19.451180Z"
    },
    "tags": []
   },
   "outputs": [],
   "source": [
    "def post(rater, rated, rating, table = \"ratings\"):\n",
    "    # data = { \"records\": [{\"fields\": {\"rater\": \"dfhn40sgqwn239045823\",\"rated\": \"joeyDiaz\",\"rating\": \"DEM\"}}]}\n",
    "    \"\"\"Add data to the Airtable.\"\"\"\n",
    "    data = {\"records\": [\n",
    "                {\"fields\": {\"rater\": rater, \n",
    "                            \"rated\": rated, \n",
    "                            \"rating\": rating}\n",
    "                }\n",
    "         ]\n",
    "    }\n",
    "    sheet = f\"{url}/{table}\"\n",
    "    headers = {'Authorization': f'Bearer {token}', \n",
    "               'Content-Type': 'application/json'}\n",
    "    response = requests.request(\"POST\", sheet, headers=headers, data=json.dumps(data))\n",
    "    return response"
   ]
  },
  {
   "cell_type": "code",
   "execution_count": 7,
   "id": "8d47c069-151b-4f65-b09f-6a9bd37c56ff",
   "metadata": {
    "execution": {
     "iopub.execute_input": "2022-06-23T02:28:19.478459Z",
     "iopub.status.busy": "2022-06-23T02:28:19.476945Z",
     "iopub.status.idle": "2022-06-23T02:28:19.486883Z",
     "shell.execute_reply": "2022-06-23T02:28:19.485162Z",
     "shell.execute_reply.started": "2022-06-23T02:28:19.478222Z"
    },
    "tags": []
   },
   "outputs": [],
   "source": [
    "def get(query = None, table = \"tweets\"):\n",
    "    \"\"\"Retrieve Tweet Data\"\"\"\n",
    "    sheet = f\"{url}/{table}\"\n",
    "    headers = {'Authorization': f'Bearer {token}', \n",
    "               'Content-Type': 'application/json'}\n",
    "    response = requests.request(\"GET\", sheet, headers=headers)\n",
    "    data = [{\"id\" : record[\"id\"]} | record[\"fields\"] for record in eval(response.text)[\"records\"]]\n",
    "    frame = pd.DataFrame(data)\n",
    "    return frame"
   ]
  },
  {
   "cell_type": "code",
   "execution_count": 50,
   "id": "d51beb90-3ecc-4cdd-beba-90607fff61f0",
   "metadata": {
    "execution": {
     "iopub.execute_input": "2022-06-23T03:37:52.155960Z",
     "iopub.status.busy": "2022-06-23T03:37:52.155687Z",
     "iopub.status.idle": "2022-06-23T03:37:52.163826Z",
     "shell.execute_reply": "2022-06-23T03:37:52.161244Z",
     "shell.execute_reply.started": "2022-06-23T03:37:52.155936Z"
    },
    "tags": []
   },
   "outputs": [],
   "source": [
    "def update(username, table = \"tweets\", step = 1):\n",
    "    \"\"\"Update specific field values for a record.\"\"\"\n",
    "    sheet = f\"{url}/{table}\"\n",
    "    headers = {'Authorization': f'Bearer {token}',\n",
    "                'Content-Type': 'application/json'}\n",
    "    record = dict(get().query(f\"user == '{username}'\").iloc[0, :])\n",
    "    \n",
    "    new_record = {\"records\": [ {\"id\": record[\"id\"],\n",
    "                                \"fields\": {\"ratings\": int(record[\"Rated\"]) + step}\n",
    "                               }\n",
    "                             ]\n",
    "                 }\n",
    "    response = requests.request(\"PATCH\", \n",
    "                                sheet, \n",
    "                                headers=headers, \n",
    "                                data=json.dumps(new_record))\n",
    "    return response"
   ]
  },
  {
   "cell_type": "markdown",
   "id": "858ed2e9-2c85-4a02-bc18-a85ad1147366",
   "metadata": {},
   "source": [
    "## Hashing"
   ]
  },
  {
   "cell_type": "code",
   "execution_count": 73,
   "id": "4b12c9a1-bfc8-4121-a7be-6e5a532ee495",
   "metadata": {
    "execution": {
     "iopub.execute_input": "2022-06-23T03:53:55.338966Z",
     "iopub.status.busy": "2022-06-23T03:53:55.338535Z",
     "iopub.status.idle": "2022-06-23T03:53:55.371797Z",
     "shell.execute_reply": "2022-06-23T03:53:55.360729Z",
     "shell.execute_reply.started": "2022-06-23T03:53:55.338933Z"
    },
    "tags": []
   },
   "outputs": [],
   "source": [
    "def hash(obj):\n",
    "    return sha1(obj.encode(\"utf-8\")).hexdigest()"
   ]
  },
  {
   "cell_type": "markdown",
   "id": "b1ed7c3b-78a0-4dd0-8b5a-0ce55ac34d2c",
   "metadata": {},
   "source": [
    "# Work"
   ]
  },
  {
   "cell_type": "code",
   "execution_count": 55,
   "id": "c5cd5b1a-6d84-4a6c-bdc2-008066eae9f4",
   "metadata": {
    "execution": {
     "iopub.execute_input": "2022-06-23T03:43:45.222005Z",
     "iopub.status.busy": "2022-06-23T03:43:45.221559Z",
     "iopub.status.idle": "2022-06-23T03:43:45.274273Z",
     "shell.execute_reply": "2022-06-23T03:43:45.272947Z",
     "shell.execute_reply.started": "2022-06-23T03:43:45.221972Z"
    },
    "tags": []
   },
   "outputs": [],
   "source": [
    "l = pd.read_csv(\"tweets.csv\").drop(columns = \"Unnamed: 0\")\n",
    "l.to_csv(\"tweets.csv\", index = 0)"
   ]
  },
  {
   "cell_type": "code",
   "execution_count": 62,
   "id": "dce791dc-6808-47b3-87cd-8a8745d185ac",
   "metadata": {
    "execution": {
     "iopub.execute_input": "2022-06-23T03:49:06.932765Z",
     "iopub.status.busy": "2022-06-23T03:49:06.931816Z",
     "iopub.status.idle": "2022-06-23T03:49:06.940569Z",
     "shell.execute_reply": "2022-06-23T03:49:06.939579Z",
     "shell.execute_reply.started": "2022-06-23T03:49:06.932725Z"
    },
    "tags": []
   },
   "outputs": [
    {
     "data": {
      "text/plain": [
       "'4ae7c3b6ac0beff671efa8cf57386151c06e58ca53a78d83f36107316cec125f'"
      ]
     },
     "execution_count": 62,
     "metadata": {},
     "output_type": "execute_result"
    }
   ],
   "source": []
  },
  {
   "cell_type": "code",
   "execution_count": null,
   "id": "d3665ba1-b632-4fbb-b43d-d0a449d91846",
   "metadata": {},
   "outputs": [],
   "source": []
  }
 ],
 "metadata": {
  "kernelspec": {
   "display_name": "Python 3 (ipykernel)",
   "language": "python",
   "name": "python3"
  },
  "language_info": {
   "codemirror_mode": {
    "name": "ipython",
    "version": 3
   },
   "file_extension": ".py",
   "mimetype": "text/x-python",
   "name": "python",
   "nbconvert_exporter": "python",
   "pygments_lexer": "ipython3",
   "version": "3.10.1"
  },
  "widgets": {
   "application/vnd.jupyter.widget-state+json": {
    "state": {},
    "version_major": 2,
    "version_minor": 0
   }
  }
 },
 "nbformat": 4,
 "nbformat_minor": 5
}
